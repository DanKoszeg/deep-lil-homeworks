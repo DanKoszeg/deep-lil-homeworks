{
 "cells": [
  {
   "cell_type": "markdown",
   "metadata": {},
   "source": [
    "#### 1 exercise\n",
    "Reading 5 pictures and write ou the RGB channels!"
   ]
  },
  {
   "cell_type": "code",
   "execution_count": 1,
   "metadata": {},
   "outputs": [],
   "source": [
    "import numpy as np\n",
    "import pandas as pd\n",
    "import matplotlib.pyplot as plt\n",
    "import matplotlib.image as image\n"
   ]
  },
  {
   "cell_type": "code",
   "execution_count": 46,
   "metadata": {},
   "outputs": [
    {
     "name": "stdout",
     "output_type": "stream",
     "text": [
      "[(128, 128, 3), (128, 128, 3), (128, 128, 3), (128, 128, 3), (128, 128, 3)]\n"
     ]
    }
   ],
   "source": [
    "# loading the picures\n",
    "i_rick = image.imread('C:/Users/User/Pictures/rick.png')\n",
    "i_flower = image.imread('C:/Users/User/Pictures/flower.jpg')\n",
    "i_westernprivateequityhappyinveestorwhitemanburgoise = image.imread('C:/Users/User/Pictures/westprivequ.jpg')\n",
    "i_eltecimer = image.imread('C:/Users/User/Pictures/eltecimer.jpg')\n",
    "i_pokeball = image.imread('C:/Users/User/Pictures/pokeball.jpg')\n",
    "\n",
    "# collect them in a common list\n",
    "ii = [i_rick, i_eltecimer, i_flower, i_pokeball, i_westernprivateequityhappyinveestorwhitemanburgoise]\n",
    "print([ i.shape for i in ii])\n",
    "#print([plt.imshow(i) for i in ii])"
   ]
  },
  {
   "cell_type": "code",
   "execution_count": 52,
   "metadata": {},
   "outputs": [
    {
     "name": "stdout",
     "output_type": "stream",
     "text": [
      "[[1. 1. 1. ... 1. 1. 1.]\n",
      " [1. 1. 1. ... 1. 1. 1.]\n",
      " [1. 1. 1. ... 1. 1. 1.]\n",
      " ...\n",
      " [1. 1. 1. ... 1. 1. 1.]\n",
      " [1. 1. 1. ... 1. 1. 1.]\n",
      " [1. 1. 1. ... 1. 1. 1.]]\n",
      "[[1. 1. 1. ... 1. 1. 1.]\n",
      " [1. 1. 1. ... 1. 1. 1.]\n",
      " [1. 1. 1. ... 1. 1. 1.]\n",
      " ...\n",
      " [1. 1. 1. ... 1. 1. 1.]\n",
      " [1. 1. 1. ... 1. 1. 1.]\n",
      " [1. 1. 1. ... 1. 1. 1.]]\n",
      "[[1. 1. 1. ... 1. 1. 1.]\n",
      " [1. 1. 1. ... 1. 1. 1.]\n",
      " [1. 1. 1. ... 1. 1. 1.]\n",
      " ...\n",
      " [1. 1. 1. ... 1. 1. 1.]\n",
      " [1. 1. 1. ... 1. 1. 1.]\n",
      " [1. 1. 1. ... 1. 1. 1.]]\n",
      "[[255 255 255 ... 255 255 255]\n",
      " [255 255 255 ... 255 255 255]\n",
      " [255 255 255 ... 255 255 255]\n",
      " ...\n",
      " [255 255 255 ... 255 255 255]\n",
      " [255 255 255 ... 255 255 255]\n",
      " [255 255 255 ... 255 255 255]]\n",
      "[[255 255 255 ... 255 255 255]\n",
      " [255 255 255 ... 255 255 255]\n",
      " [255 255 255 ... 255 255 255]\n",
      " ...\n",
      " [255 255 255 ... 255 255 255]\n",
      " [255 255 255 ... 255 255 255]\n",
      " [255 255 255 ... 255 255 255]]\n",
      "[[255 255 255 ... 255 255 255]\n",
      " [255 255 255 ... 255 255 255]\n",
      " [255 255 255 ... 255 255 255]\n",
      " ...\n",
      " [255 255 255 ... 255 255 255]\n",
      " [255 255 255 ... 255 255 255]\n",
      " [255 255 255 ... 255 255 255]]\n",
      "[[255 255 255 ... 255 255 255]\n",
      " [255 255 255 ... 255 255 255]\n",
      " [255 255 255 ... 255 255 255]\n",
      " ...\n",
      " [255 255 255 ... 255 255 255]\n",
      " [255 255 255 ... 255 255 255]\n",
      " [255 255 255 ... 255 255 255]]\n",
      "[[255 255 255 ... 255 255 255]\n",
      " [255 255 255 ... 255 255 255]\n",
      " [255 255 255 ... 255 255 255]\n",
      " ...\n",
      " [255 255 255 ... 255 255 255]\n",
      " [255 255 255 ... 255 255 255]\n",
      " [255 255 255 ... 255 255 255]]\n",
      "[[255 255 255 ... 255 255 255]\n",
      " [255 255 255 ... 255 255 255]\n",
      " [255 255 255 ... 255 255 255]\n",
      " ...\n",
      " [255 255 255 ... 255 255 255]\n",
      " [255 255 255 ... 255 255 255]\n",
      " [255 255 255 ... 255 255 255]]\n",
      "[[255 255 255 ... 255 255 255]\n",
      " [255 255 255 ... 255 255 255]\n",
      " [255 255 255 ... 255 255 255]\n",
      " ...\n",
      " [255 255 255 ... 255 255 255]\n",
      " [255 255 255 ... 255 255 255]\n",
      " [255 255 255 ... 255 255 255]]\n",
      "[[255 255 255 ... 255 255 255]\n",
      " [255 255 255 ... 255 255 255]\n",
      " [255 255 255 ... 255 255 255]\n",
      " ...\n",
      " [255 255 255 ... 255 255 255]\n",
      " [255 255 255 ... 255 255 255]\n",
      " [255 255 255 ... 255 255 255]]\n",
      "[[255 255 255 ... 255 255 255]\n",
      " [255 255 255 ... 255 255 255]\n",
      " [255 255 255 ... 255 255 255]\n",
      " ...\n",
      " [255 255 255 ... 255 255 255]\n",
      " [255 255 255 ... 255 255 255]\n",
      " [255 255 255 ... 255 255 255]]\n",
      "[[132 132 134 ...  94 127 147]\n",
      " [129 130 131 ...  79 115 136]\n",
      " [129 128 129 ...  69 101 119]\n",
      " ...\n",
      " [200 201 200 ...  61  70  85]\n",
      " [201 200 199 ...  70  59  56]\n",
      " [203 199 198 ...  55  60  72]]\n",
      "[[143 143 145 ...  91 122 141]\n",
      " [140 141 142 ...  76 110 130]\n",
      " [138 137 138 ...  66  96 113]\n",
      " ...\n",
      " [202 203 204 ...  78  89 104]\n",
      " [203 202 203 ...  85  77  74]\n",
      " [205 203 202 ...  70  77  89]]\n",
      "[[ 87  87  89 ...  38  66  83]\n",
      " [ 84  85  86 ...  23  54  72]\n",
      " [ 85  84  83 ...  13  40  55]\n",
      " ...\n",
      " [214 215 216 ...  88  95 110]\n",
      " [216 215 215 ... 104  91  86]\n",
      " [218 215 214 ...  93  95 105]]\n"
     ]
    }
   ],
   "source": [
    "for i  in ii:\n",
    "    for ch in np.arange(3):\n",
    "        print(i[:,:,ch])\n",
    "        \n",
    "# the first picture is scaled to 0-1 range\n"
   ]
  },
  {
   "cell_type": "code",
   "execution_count": null,
   "metadata": {},
   "outputs": [],
   "source": []
  },
  {
   "cell_type": "markdown",
   "metadata": {},
   "source": [
    "### 2. Normalizing the  channels RGB values\n"
   ]
  },
  {
   "cell_type": "code",
   "execution_count": 63,
   "metadata": {},
   "outputs": [
    {
     "data": {
      "text/plain": [
       "[[(0.74199295, 0.3584426), (0.7687797, 0.35768765), (0.78235126, 0.3604054)],\n",
       " [(217.641845703125, 56.74794270183065),\n",
       "  (217.2344970703125, 58.4438421223524),\n",
       "  (213.62042236328125, 64.93721539892915)],\n",
       " [(243.97503662109375, 21.712817858335313),\n",
       "  (177.90045166015625, 73.31137050754432),\n",
       "  (198.42242431640625, 59.71966952606467)],\n",
       " [(225.26287841796875, 46.022207974748014),\n",
       "  (164.83367919921875, 91.47369499460184),\n",
       "  (165.06072998046875, 91.50171783124452)],\n",
       " [(149.65289306640625, 53.84742431310487),\n",
       "  (140.23919677734375, 52.700412436117276),\n",
       "  (122.6873779296875, 58.422363279082)]]"
      ]
     },
     "execution_count": 63,
     "metadata": {},
     "output_type": "execute_result"
    }
   ],
   "source": [
    "channel_params = [ # nested list comprehesion\n",
    "        [\n",
    "            (ima[:,:,channel].mean(), ima[:,:,channel].std()) # in a tuple come the mean and the deviation pairs\n",
    "            for channel in np.arange(3) # by channels\n",
    "        ]\n",
    "        for ima in ii] # by images \n",
    "\n",
    "channel_params #list of lists"
   ]
  },
  {
   "cell_type": "code",
   "execution_count": 76,
   "metadata": {},
   "outputs": [
    {
     "name": "stdout",
     "output_type": "stream",
     "text": [
      "(0.74199295, 0.3584426)\n",
      "[[0.7198002 0.7198002 0.7198002 ... 0.7198002 0.7198002 0.7198002]\n",
      " [0.7198002 0.7198002 0.7198002 ... 0.7198002 0.7198002 0.7198002]\n",
      " [0.7198002 0.7198002 0.7198002 ... 0.7198002 0.7198002 0.7198002]\n",
      " ...\n",
      " [0.7198002 0.7198002 0.7198002 ... 0.7198002 0.7198002 0.7198002]\n",
      " [0.7198002 0.7198002 0.7198002 ... 0.7198002 0.7198002 0.7198002]\n",
      " [0.7198002 0.7198002 0.7198002 ... 0.7198002 0.7198002 0.7198002]]\n",
      "(0.7687797, 0.35768765)\n",
      "[[0.6464308 0.6464308 0.6464308 ... 0.6464308 0.6464308 0.6464308]\n",
      " [0.6464308 0.6464308 0.6464308 ... 0.6464308 0.6464308 0.6464308]\n",
      " [0.6464308 0.6464308 0.6464308 ... 0.6464308 0.6464308 0.6464308]\n",
      " ...\n",
      " [0.6464308 0.6464308 0.6464308 ... 0.6464308 0.6464308 0.6464308]\n",
      " [0.6464308 0.6464308 0.6464308 ... 0.6464308 0.6464308 0.6464308]\n",
      " [0.6464308 0.6464308 0.6464308 ... 0.6464308 0.6464308 0.6464308]]\n",
      "(0.78235126, 0.3604054)\n",
      "[[0.60389984 0.60389984 0.60389984 ... 0.60389984 0.60389984 0.60389984]\n",
      " [0.60389984 0.60389984 0.60389984 ... 0.60389984 0.60389984 0.60389984]\n",
      " [0.60389984 0.60389984 0.60389984 ... 0.60389984 0.60389984 0.60389984]\n",
      " ...\n",
      " [0.60389984 0.60389984 0.60389984 ... 0.60389984 0.60389984 0.60389984]\n",
      " [0.60389984 0.60389984 0.60389984 ... 0.60389984 0.60389984 0.60389984]\n",
      " [0.60389984 0.60389984 0.60389984 ... 0.60389984 0.60389984 0.60389984]]\n",
      "(217.641845703125, 56.74794270183065)\n",
      "[[0.65831733 0.65831733 0.65831733 ... 0.65831733 0.65831733 0.65831733]\n",
      " [0.65831733 0.65831733 0.65831733 ... 0.65831733 0.65831733 0.65831733]\n",
      " [0.65831733 0.65831733 0.65831733 ... 0.65831733 0.65831733 0.65831733]\n",
      " ...\n",
      " [0.65831733 0.65831733 0.65831733 ... 0.65831733 0.65831733 0.65831733]\n",
      " [0.65831733 0.65831733 0.65831733 ... 0.65831733 0.65831733 0.65831733]\n",
      " [0.65831733 0.65831733 0.65831733 ... 0.65831733 0.65831733 0.65831733]]\n",
      "(217.2344970703125, 58.4438421223524)\n",
      "[[0.64618447 0.64618447 0.64618447 ... 0.64618447 0.64618447 0.64618447]\n",
      " [0.64618447 0.64618447 0.64618447 ... 0.64618447 0.64618447 0.64618447]\n",
      " [0.64618447 0.64618447 0.64618447 ... 0.64618447 0.64618447 0.64618447]\n",
      " ...\n",
      " [0.64618447 0.64618447 0.64618447 ... 0.64618447 0.64618447 0.64618447]\n",
      " [0.64618447 0.64618447 0.64618447 ... 0.64618447 0.64618447 0.64618447]\n",
      " [0.64618447 0.64618447 0.64618447 ... 0.64618447 0.64618447 0.64618447]]\n",
      "(213.62042236328125, 64.93721539892915)\n",
      "[[0.63722439 0.63722439 0.63722439 ... 0.63722439 0.63722439 0.63722439]\n",
      " [0.63722439 0.63722439 0.63722439 ... 0.63722439 0.63722439 0.63722439]\n",
      " [0.63722439 0.63722439 0.63722439 ... 0.63722439 0.63722439 0.63722439]\n",
      " ...\n",
      " [0.63722439 0.63722439 0.63722439 ... 0.63722439 0.63722439 0.63722439]\n",
      " [0.63722439 0.63722439 0.63722439 ... 0.63722439 0.63722439 0.63722439]\n",
      " [0.63722439 0.63722439 0.63722439 ... 0.63722439 0.63722439 0.63722439]]\n",
      "(243.97503662109375, 21.712817858335313)\n",
      "[[0.5077629 0.5077629 0.5077629 ... 0.5077629 0.5077629 0.5077629]\n",
      " [0.5077629 0.5077629 0.5077629 ... 0.5077629 0.5077629 0.5077629]\n",
      " [0.5077629 0.5077629 0.5077629 ... 0.5077629 0.5077629 0.5077629]\n",
      " ...\n",
      " [0.5077629 0.5077629 0.5077629 ... 0.5077629 0.5077629 0.5077629]\n",
      " [0.5077629 0.5077629 0.5077629 ... 0.5077629 0.5077629 0.5077629]\n",
      " [0.5077629 0.5077629 0.5077629 ... 0.5077629 0.5077629 0.5077629]]\n",
      "(177.90045166015625, 73.31137050754432)\n",
      "[[1.05167245 1.05167245 1.05167245 ... 1.05167245 1.05167245 1.05167245]\n",
      " [1.05167245 1.05167245 1.05167245 ... 1.05167245 1.05167245 1.05167245]\n",
      " [1.05167245 1.05167245 1.05167245 ... 1.05167245 1.05167245 1.05167245]\n",
      " ...\n",
      " [1.05167245 1.05167245 1.05167245 ... 1.05167245 1.05167245 1.05167245]\n",
      " [1.05167245 1.05167245 1.05167245 ... 1.05167245 1.05167245 1.05167245]\n",
      " [1.05167245 1.05167245 1.05167245 ... 1.05167245 1.05167245 1.05167245]]\n",
      "(198.42242431640625, 59.71966952606467)\n",
      "[[0.94738595 0.94738595 0.94738595 ... 0.94738595 0.94738595 0.94738595]\n",
      " [0.94738595 0.94738595 0.94738595 ... 0.94738595 0.94738595 0.94738595]\n",
      " [0.94738595 0.94738595 0.94738595 ... 0.94738595 0.94738595 0.94738595]\n",
      " ...\n",
      " [0.94738595 0.94738595 0.94738595 ... 0.94738595 0.94738595 0.94738595]\n",
      " [0.94738595 0.94738595 0.94738595 ... 0.94738595 0.94738595 0.94738595]\n",
      " [0.94738595 0.94738595 0.94738595 ... 0.94738595 0.94738595 0.94738595]]\n",
      "(225.26287841796875, 46.022207974748014)\n",
      "[[0.64614722 0.64614722 0.64614722 ... 0.64614722 0.64614722 0.64614722]\n",
      " [0.64614722 0.64614722 0.64614722 ... 0.64614722 0.64614722 0.64614722]\n",
      " [0.64614722 0.64614722 0.64614722 ... 0.64614722 0.64614722 0.64614722]\n",
      " ...\n",
      " [0.64614722 0.64614722 0.64614722 ... 0.64614722 0.64614722 0.64614722]\n",
      " [0.64614722 0.64614722 0.64614722 ... 0.64614722 0.64614722 0.64614722]\n",
      " [0.64614722 0.64614722 0.64614722 ... 0.64614722 0.64614722 0.64614722]]\n",
      "(164.83367919921875, 91.47369499460184)\n",
      "[[0.98570765 0.98570765 0.98570765 ... 0.98570765 0.98570765 0.98570765]\n",
      " [0.98570765 0.98570765 0.98570765 ... 0.98570765 0.98570765 0.98570765]\n",
      " [0.98570765 0.98570765 0.98570765 ... 0.98570765 0.98570765 0.98570765]\n",
      " ...\n",
      " [0.98570765 0.98570765 0.98570765 ... 0.98570765 0.98570765 0.98570765]\n",
      " [0.98570765 0.98570765 0.98570765 ... 0.98570765 0.98570765 0.98570765]\n",
      " [0.98570765 0.98570765 0.98570765 ... 0.98570765 0.98570765 0.98570765]]\n",
      "(165.06072998046875, 91.50171783124452)\n",
      "[[0.98292439 0.98292439 0.98292439 ... 0.98292439 0.98292439 0.98292439]\n",
      " [0.98292439 0.98292439 0.98292439 ... 0.98292439 0.98292439 0.98292439]\n",
      " [0.98292439 0.98292439 0.98292439 ... 0.98292439 0.98292439 0.98292439]\n",
      " ...\n",
      " [0.98292439 0.98292439 0.98292439 ... 0.98292439 0.98292439 0.98292439]\n",
      " [0.98292439 0.98292439 0.98292439 ... 0.98292439 0.98292439 0.98292439]\n",
      " [0.98292439 0.98292439 0.98292439 ... 0.98292439 0.98292439 0.98292439]]\n",
      "(149.65289306640625, 53.84742431310487)\n",
      "[[-0.32783171 -0.32783171 -0.29068973 ... -1.03352934 -0.42068666\n",
      "  -0.04926685]\n",
      " [-0.38354468 -0.36497369 -0.3464027  ... -1.3120942  -0.64353854\n",
      "  -0.25354775]\n",
      " [-0.38354468 -0.40211567 -0.38354468 ... -1.4978041  -0.90353241\n",
      "  -0.56925458]\n",
      " ...\n",
      " [ 0.93499564  0.95356663  0.93499564 ... -1.64637203 -1.47923311\n",
      "  -1.20066826]\n",
      " [ 0.95356663  0.93499564  0.91642465 ... -1.47923311 -1.68351401\n",
      "  -1.73922698]\n",
      " [ 0.99070861  0.91642465  0.89785366 ... -1.75779797 -1.66494302\n",
      "  -1.44209113]]\n",
      "(140.23919677734375, 52.700412436117276)\n",
      "[[ 0.05238675  0.05238675  0.09033712 ... -0.9343228  -0.34609211\n",
      "   0.01443638]\n",
      " [-0.0045388   0.01443638  0.03341156 ... -1.21895055 -0.57379431\n",
      "  -0.19429064]\n",
      " [-0.04248917 -0.06146435 -0.04248917 ... -1.40870239 -0.83944688\n",
      "  -0.51686876]\n",
      " ...\n",
      " [ 1.17192258  1.19089776  1.20987295 ... -1.18100018 -0.97227316\n",
      "  -0.68764541]\n",
      " [ 1.19089776  1.17192258  1.19089776 ... -1.0481739  -1.19997537\n",
      "  -1.25690092]\n",
      " [ 1.22884813  1.19089776  1.17192258 ... -1.33280165 -1.19997537\n",
      "  -0.97227316]]\n",
      "(122.6873779296875, 58.422363279082)\n",
      "[[-0.61085132 -0.61085132 -0.57661786 ... -1.44957125 -0.97030272\n",
      "  -0.67931826]\n",
      " [-0.66220152 -0.64508479 -0.62796806 ... -1.70632224 -1.17570352\n",
      "  -0.86760232]\n",
      " [-0.64508479 -0.66220152 -0.67931826 ... -1.87748957 -1.41533778\n",
      "  -1.15858678]\n",
      " ...\n",
      " [ 1.56297378  1.58009051  1.59720725 ... -0.59373459 -0.47391746\n",
      "  -0.21716646]\n",
      " [ 1.59720725  1.58009051  1.58009051 ... -0.31986686 -0.54238439\n",
      "  -0.62796806]\n",
      " [ 1.63144071  1.58009051  1.56297378 ... -0.50815092 -0.47391746\n",
      "  -0.30275013]]\n"
     ]
    }
   ],
   "source": [
    "scaledii = [] \n",
    "for i in range(len(ii)): # going throught on the images with index 'i'\n",
    "    for ch in range(len(channel_params[i])): # and on the channels index 'ch'\n",
    "        imag = ii[i][:,:,ch] # giving a name to the given channel\n",
    "        print(channel_params[i][ch] ) \n",
    "        \n",
    "        # overwriteing the imag variables, subract with the mean (first elem. of the tuple), \n",
    "        # then dividing with the st.dev. (second elem.)\n",
    "        imag = (imag - channel_params[i][ch][0]) / channel_params[i][ch][1] \n",
    "        print(imag)\n",
    "        scaledii.append(imag) \n",
    "# the result lsit is 5*3 = 15 long list, for every channel of every image, but it still able to handle"
   ]
  },
  {
   "cell_type": "code",
   "execution_count": 83,
   "metadata": {},
   "outputs": [
    {
     "name": "stdout",
     "output_type": "stream",
     "text": [
      "[array([-0.,  1.], dtype=float32), array([-0.,  1.], dtype=float32), array([0., 1.], dtype=float32), array([0., 1.]), array([0., 1.]), array([0., 1.]), array([0., 1.]), array([0., 1.]), array([-0.,  1.]), array([0., 1.]), array([-0.,  1.]), array([0., 1.]), array([0., 1.]), array([-0.,  1.]), array([-0.,  1.])]\n"
     ]
    }
   ],
   "source": [
    "# check the scaled images list's parameters\n",
    "print([np.round((ch.mean(), ch.std())) for ch in scaledii])"
   ]
  },
  {
   "cell_type": "markdown",
   "metadata": {},
   "source": [
    "### 3. Download the HTML of https://blog.keras.io/the-future-of-deep-learning.html, and plot the histogram of the letters\n"
   ]
  },
  {
   "cell_type": "code",
   "execution_count": 101,
   "metadata": {},
   "outputs": [
    {
     "data": {
      "text/plain": [
       "(str, 22918)"
      ]
     },
     "execution_count": 101,
     "metadata": {},
     "output_type": "execute_result"
    }
   ],
   "source": [
    "# downloading the HTLM doc:\n",
    "from urllib import request\n",
    "html ='https://blog.keras.io/the-future-of-deep-learning.html'\n",
    "\n",
    "#make the request\n",
    "page = request.urlopen(html).read()\n",
    "\n",
    "# decoding the binary to string\n",
    "page = page.decode()\n",
    "type(page), len(page)"
   ]
  },
  {
   "cell_type": "code",
   "execution_count": 124,
   "metadata": {},
   "outputs": [
    {
     "name": "stdout",
     "output_type": "stream",
     "text": [
      "2966 ['<!DOCTYPE', 'html>', '<html', 'lang=\"en\">', '<head>', '<title>The', 'future', 'of', 'deep', 'learning</title>', '<meta', 'charset=\"utf-8\"']\n"
     ]
    }
   ],
   "source": [
    "# splitting and clearing and again spliting the page to rows\n",
    "rows = [row.strip().split() for row in page.split('\\n')]\n",
    "\n",
    "# flatting the rows to the list of words \n",
    "words = [rr for r in rows for rr in r]\n",
    "\n",
    "print(len(words), words[0:12])"
   ]
  },
  {
   "cell_type": "code",
   "execution_count": 168,
   "metadata": {},
   "outputs": [
    {
     "data": {
      "text/plain": [
       "{'<': 273,\n",
       " '!': 14,\n",
       " 'D': 10,\n",
       " 'O': 3,\n",
       " 'C': 13,\n",
       " 'T': 39,\n",
       " 'Y': 3,\n",
       " 'P': 14,\n",
       " 'E': 11,\n",
       " 'h': 639,\n",
       " 't': 1458,\n",
       " 'm': 587,\n",
       " 'l': 838,\n",
       " '>': 273,\n",
       " 'a': 1420,\n",
       " 'n': 1187,\n",
       " 'g': 448,\n",
       " '=': 83,\n",
       " '\"': 186,\n",
       " 'e': 2095,\n",
       " 'd': 552,\n",
       " 'i': 1260,\n",
       " 'f': 382,\n",
       " 'u': 455,\n",
       " 'r': 1188,\n",
       " 'o': 1182,\n",
       " 'p': 496,\n",
       " '/': 251,\n",
       " 'c': 579,\n",
       " 's': 1050,\n",
       " '-': 126,\n",
       " '8': 6,\n",
       " 'k': 123,\n",
       " 'y': 262,\n",
       " 'b': 285,\n",
       " '.': 176,\n",
       " 'x': 46,\n",
       " ':': 44,\n",
       " '?': 7,\n",
       " 'L': 12,\n",
       " '4': 8,\n",
       " '0': 25,\n",
       " ',': 159,\n",
       " '7': 14,\n",
       " '|': 2,\n",
       " 'S': 6,\n",
       " '+': 6,\n",
       " 'I': 45,\n",
       " 'K': 4,\n",
       " 'B': 12,\n",
       " 'A': 37,\n",
       " 'M': 16,\n",
       " 'F': 6,\n",
       " '[': 6,\n",
       " ']': 6,\n",
       " '5': 7,\n",
       " 'v': 156,\n",
       " 'j': 20,\n",
       " '6': 8,\n",
       " '1': 13,\n",
       " 'G': 10,\n",
       " '#': 4,\n",
       " '2': 16,\n",
       " 'J': 3,\n",
       " 'w': 247,\n",
       " '3': 5,\n",
       " '9': 1,\n",
       " '_': 14,\n",
       " '&': 5,\n",
       " ';': 12,\n",
       " '(': 32,\n",
       " ')': 34,\n",
       " 'H': 6,\n",
       " 'N': 17,\n",
       " \"'\": 15,\n",
       " '—': 20,\n",
       " 'q': 13,\n",
       " 'z': 15,\n",
       " 'W': 6,\n",
       " 'R': 5,\n",
       " 'U': 2,\n",
       " '@': 1,\n",
       " '%': 4,\n",
       " '{': 2,\n",
       " '}': 2}"
      ]
     },
     "execution_count": 168,
     "metadata": {},
     "output_type": "execute_result"
    }
   ],
   "source": [
    "# counting the characters:\n",
    "# collecting the results in dictionary: {character : #character} \n",
    "chardict = {} # init the dict\n",
    "\n",
    "for w in words: # for every word\n",
    "    for c in w:  # for every char \n",
    "        # Here come the condition, have we count the char before. This is the point where it can be filter the likeable \n",
    "        # characters, or number with expanding the condition. I do not apply these now.\n",
    "        if c in chardict: \n",
    "            chardict[c] += 1\n",
    "        else:\n",
    "            chardict[c] = 1\n",
    "\n",
    "chardict"
   ]
  },
  {
   "cell_type": "code",
   "execution_count": 166,
   "metadata": {},
   "outputs": [
    {
     "data": {
      "text/plain": [
       "<matplotlib.axes._subplots.AxesSubplot at 0x2500d4ac0f0>"
      ]
     },
     "execution_count": 166,
     "metadata": {},
     "output_type": "execute_result"
    },
    {
     "data": {
      "image/png": "[encoded data removed]",
      "text/plain": [
       "<Figure size 504x1224 with 1 Axes>"
      ]
     },
     "metadata": {
      "needs_background": "light"
     },
     "output_type": "display_data"
    }
   ],
   "source": [
    "# to visualize thr results import pandas and take the dict to an Series\n",
    "import pandas as pd\n",
    "\n",
    "chardict = pd.Series(chardict)\n",
    "chardict.plot(kind='barh', figsize=(7,17), grid = True)"
   ]
  },
  {
   "cell_type": "markdown",
   "metadata": {},
   "source": [
    "### 4. Spectogram of a sound"
   ]
  },
  {
   "cell_type": "code",
   "execution_count": 199,
   "metadata": {},
   "outputs": [],
   "source": [
    "# im just find this script in Stackoverflow and its worked!!!\n",
    "# source : https://stackoverflow.com/questions/44787437/how-to-convert-a-wav-file-to-a-spectrogram-in-python3#44800492\n",
    "\n",
    "import matplotlib.pyplot as plt\n",
    "from scipy import signal\n",
    "from scipy.io import wavfile\n",
    "\n",
    "#path = 'C:\\\\Users\\\\User\\\\Music\\\\440Hz_44100Hz_16bit_30sec.wav'\n",
    "path2 = 'C:\\\\Users\\\\User\\\\Music\\\\Kurzweil-K2000-Big-Mono-Bass-C1.wav'\n",
    "\n",
    "# reading and computing the signals \n",
    "sample_rate, samples = wavfile.read(path2)\n",
    "frequencies, times, spectrogram = signal.spectrogram(samples, sample_rate)\n",
    "\n"
   ]
  },
  {
   "cell_type": "code",
   "execution_count": 202,
   "metadata": {},
   "outputs": [
    {
     "data": {
      "image/png": "[encoded data removed]",
      "text/plain": [
       "<Figure size 432x288 with 2 Axes>"
      ]
     },
     "metadata": {
      "needs_background": "light"
     },
     "output_type": "display_data"
    }
   ],
   "source": [
    "# visualising them \n",
    "plt.pcolormesh(times, frequencies, np.log(spectrogram))\n",
    "plt.colorbar()\n",
    "plt.ylabel('Frequency [Hz]')\n",
    "plt.xlabel('Time [sec]')\n",
    "plt.show()"
   ]
  },
  {
   "cell_type": "code",
   "execution_count": null,
   "metadata": {},
   "outputs": [],
   "source": []
  },
  {
   "cell_type": "code",
   "execution_count": null,
   "metadata": {},
   "outputs": [],
   "source": []
  }
 ],
 "metadata": {
  "kernelspec": {
   "display_name": "Python 3",
   "language": "python",
   "name": "python3"
  },
  "language_info": {
   "codemirror_mode": {
    "name": "ipython",
    "version": 3
   },
   "file_extension": ".py",
   "mimetype": "text/x-python",
   "name": "python",
   "nbconvert_exporter": "python",
   "pygments_lexer": "ipython3",
   "version": "3.7.3"
  }
 },
 "nbformat": 4,
 "nbformat_minor": 2
}
